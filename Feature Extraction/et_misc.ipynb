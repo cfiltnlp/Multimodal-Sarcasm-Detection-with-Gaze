{
  "nbformat": 4,
  "nbformat_minor": 0,
  "metadata": {
    "colab": {
      "name": "et_misc.ipynb",
      "provenance": [],
      "collapsed_sections": [
        "MkIYq6Bi8bjR",
        "gsKr82tu8wf1",
        "0AEAmxA4l-tP"
      ]
    },
    "kernelspec": {
      "name": "python3",
      "display_name": "Python 3"
    },
    "language_info": {
      "name": "python"
    }
  },
  "cells": [
    {
      "cell_type": "code",
      "source": [
        "!pip install tqdm"
      ],
      "metadata": {
        "colab": {
          "base_uri": "https://localhost:8080/"
        },
        "id": "zw7keM-ktRrO",
        "outputId": "75246d50-afe7-45c7-ca29-8ccfa59bd499"
      },
      "execution_count": null,
      "outputs": [
        {
          "output_type": "stream",
          "name": "stdout",
          "text": [
            "Looking in indexes: https://pypi.org/simple, https://us-python.pkg.dev/colab-wheels/public/simple/\n",
            "Requirement already satisfied: tqdm in /usr/local/lib/python3.7/dist-packages (4.64.0)\n"
          ]
        }
      ]
    },
    {
      "cell_type": "code",
      "execution_count": null,
      "metadata": {
        "id": "g5BqGWsEiJAc"
      },
      "outputs": [],
      "source": [
        "import pandas as pd\n",
        "from tqdm import tqdm"
      ]
    },
    {
      "cell_type": "markdown",
      "source": [
        "# Task1\n",
        "Counting the number of speaker turns in each instance"
      ],
      "metadata": {
        "id": "MkIYq6Bi8bjR"
      }
    },
    {
      "cell_type": "code",
      "source": [
        "data = pd.read_csv('https://docs.google.com/spreadsheets/d/e/2PACX-1vR13eiIyI8abEhNedGFIiNCi0gASghjO33Lr_qSFyYymGJsmk0svWk1OeNGh1F-aK0dTfDW7BxrbRS-/pub?gid=1155147469&single=true&output=csv')"
      ],
      "metadata": {
        "id": "GvxMphykjAud"
      },
      "execution_count": null,
      "outputs": []
    },
    {
      "cell_type": "code",
      "source": [
        "def count_sentences(data):\n",
        "  count=0\n",
        "  size=[]\n",
        "  for index,row in tqdm(data.iterrows()):\n",
        "    count+=1\n",
        "    size.append(count)\n",
        "    if(row['KEY'][-1]=='u'):\n",
        "      count=0\n",
        "\n",
        "  data['SIZE']=size\n",
        "  data.to_csv('sorted_mpp.csv')"
      ],
      "metadata": {
        "id": "uDL22rlQjH-a"
      },
      "execution_count": null,
      "outputs": []
    },
    {
      "cell_type": "code",
      "source": [
        "count_sentences(data)"
      ],
      "metadata": {
        "colab": {
          "base_uri": "https://localhost:8080/"
        },
        "id": "5xK5263vudVB",
        "outputId": "eb7f70cd-bbc5-4d17-97ce-de23d3c55216"
      },
      "execution_count": null,
      "outputs": [
        {
          "output_type": "stream",
          "name": "stderr",
          "text": [
            "6041it [00:00, 7461.51it/s]\n"
          ]
        }
      ]
    },
    {
      "cell_type": "markdown",
      "source": [
        "# Task2\n",
        "Separating out manually selected instances"
      ],
      "metadata": {
        "id": "gsKr82tu8wf1"
      }
    },
    {
      "cell_type": "code",
      "source": [
        "selected_u = pd.read_csv('https://docs.google.com/spreadsheets/d/e/2PACX-1vR13eiIyI8abEhNedGFIiNCi0gASghjO33Lr_qSFyYymGJsmk0svWk1OeNGh1F-aK0dTfDW7BxrbRS-/pub?gid=1084015647&single=true&output=csv')\n",
        "complete_data = pd.read_csv('https://docs.google.com/spreadsheets/d/e/2PACX-1vR13eiIyI8abEhNedGFIiNCi0gASghjO33Lr_qSFyYymGJsmk0svWk1OeNGh1F-aK0dTfDW7BxrbRS-/pub?gid=1155147469&single=true&output=csv')"
      ],
      "metadata": {
        "id": "x87Wu_m8ctbD"
      },
      "execution_count": null,
      "outputs": []
    },
    {
      "cell_type": "code",
      "source": [
        "hidepersonmap={}\n",
        "speakers = list(complete_data.SPEAKER.unique())\n",
        "# count=0\n",
        "# for speaker in speakers:\n",
        "#   if(speaker is '-'):\n",
        "#     continue\n",
        "#   speaker = speaker.capitalize()\n",
        "#   hidepersonmap[speaker]='Person_'+str(count)\n",
        "#   count+=1"
      ],
      "metadata": {
        "id": "kdN-J8pkhwED"
      },
      "execution_count": null,
      "outputs": []
    },
    {
      "cell_type": "code",
      "source": [
        "speakers"
      ],
      "metadata": {
        "colab": {
          "base_uri": "https://localhost:8080/"
        },
        "id": "8EMSp6vVVb-c",
        "outputId": "54cb946b-3d3f-43eb-a86e-3ce67d14a46e"
      },
      "execution_count": null,
      "outputs": [
        {
          "output_type": "execute_result",
          "data": {
            "text/plain": [
              "['PERSON',\n",
              " 'SHELDON',\n",
              " 'AMY',\n",
              " 'PENNY',\n",
              " 'RAJ',\n",
              " 'HOWARD',\n",
              " 'LEONARD',\n",
              " 'BERNADETTE',\n",
              " 'PERSON1',\n",
              " 'PERSON2',\n",
              " 'PERSON3',\n",
              " 'OTHER',\n",
              " 'STUART',\n",
              " '-',\n",
              " 'CHANDLER',\n",
              " 'MONICA',\n",
              " 'DOROTHY',\n",
              " 'ROSE',\n",
              " 'BLANCHE',\n",
              " 'ROSS',\n",
              " 'JOEY',\n",
              " 'RACHEL',\n",
              " 'PHOEBE',\n",
              " 'SOPHIA',\n",
              " 'SCOTT',\n",
              " 'MODERATOR',\n",
              " 'MEMBER-GIRL',\n",
              " 'MEMBER-BOY',\n",
              " 'DINESH',\n",
              " 'GILFOYLE',\n",
              " 'RICHARD',\n",
              " 'ERLICH',\n",
              " 'JARED']"
            ]
          },
          "metadata": {},
          "execution_count": 12
        }
      ]
    },
    {
      "cell_type": "code",
      "source": [
        "hidepersonmap['-']='-'"
      ],
      "metadata": {
        "id": "ZEy9dRrozwIH"
      },
      "execution_count": null,
      "outputs": []
    },
    {
      "cell_type": "code",
      "source": [
        "hidepersonmap = {'Amy': 'Alice',\n",
        " 'Bernadette': 'Bianca',\n",
        " 'Blanche': 'Erica',\n",
        " 'Chandler': 'Colt',\n",
        " 'Dinesh': 'Dev',\n",
        " 'Dorothy': 'Rebecca',\n",
        " 'Erlich': 'Edward',\n",
        " 'Gilfoyle': 'Gordon',\n",
        " 'Howard': 'Shane',\n",
        " 'Jared': 'Jack',\n",
        " 'Joey': 'Jess',\n",
        " 'Leonard': 'Louis',\n",
        " 'Member-boy': 'Member-boy',\n",
        " 'Member-girl': 'Member-girl',\n",
        " 'Moderator': 'Moderator',\n",
        " 'Monica': 'Sadie',\n",
        " 'Other': 'Other',\n",
        " 'Penny': 'Sadie',\n",
        " 'Person': 'Person',\n",
        " 'Person1': 'Person1',\n",
        " 'Person2': 'Person2',\n",
        " 'Person3': 'Person3',\n",
        " 'Phoebe': 'Patricia',\n",
        " 'Rachel': 'Meg',\n",
        " 'Raj': 'Rohit',\n",
        " 'Richard': 'Patrick',\n",
        " 'Rose': 'Daisy',\n",
        " 'Ross': 'Peter',\n",
        " 'Scott': 'Russell',\n",
        " 'Sheldon': 'George',\n",
        " 'Sophia': 'Susie',\n",
        " 'Stuart': 'Melvin',\n",
        " '-': '-'}"
      ],
      "metadata": {
        "id": "WSs1wj5ltzjC"
      },
      "execution_count": null,
      "outputs": []
    },
    {
      "cell_type": "code",
      "source": [
        "uids = selected_u['SCENE']\n",
        "def get_complete_instances(uids,data):\n",
        "  cols = list(data.columns)\n",
        "  complete_instances = pd.DataFrame(columns=cols)\n",
        "  for uscene in uids:\n",
        "    instance = data[data['SCENE']==uscene]\n",
        "    for i,r in tqdm(instance.iterrows()):\n",
        "      speaker = r['SPEAKER'].capitalize()\n",
        "      r['SPEAKER']=hidepersonmap[speaker]\n",
        "      for sp in speakers:\n",
        "        r['SENTENCE']=str(r['SENTENCE']).replace(sp.capitalize(),hidepersonmap[sp.capitalize()])\n",
        "      complete_instances=complete_instances.append(r,ignore_index=True)\n",
        "  complete_instances.to_csv('aliased_selected_data.csv')"
      ],
      "metadata": {
        "id": "c1oL9s7dc02s"
      },
      "execution_count": null,
      "outputs": []
    },
    {
      "cell_type": "code",
      "source": [
        "get_complete_instances(uids,complete_data)"
      ],
      "metadata": {
        "id": "BzccatTehdgx",
        "colab": {
          "base_uri": "https://localhost:8080/"
        },
        "outputId": "ed0af2af-5b61-4dec-b888-2b4da084f25c"
      },
      "execution_count": null,
      "outputs": [
        {
          "output_type": "stream",
          "name": "stderr",
          "text": [
            "7it [00:00, 166.02it/s]\n",
            "2it [00:00, 113.38it/s]\n",
            "6it [00:00, 183.35it/s]\n",
            "5it [00:00, 148.08it/s]\n",
            "5it [00:00, 123.26it/s]\n",
            "5it [00:00, 118.09it/s]\n",
            "8it [00:00, 142.00it/s]\n",
            "8it [00:00, 144.20it/s]\n",
            "3it [00:00, 146.58it/s]\n",
            "2it [00:00, 129.73it/s]\n",
            "6it [00:00, 145.57it/s]\n",
            "6it [00:00, 175.13it/s]\n",
            "4it [00:00, 137.35it/s]\n",
            "11it [00:00, 163.58it/s]\n",
            "12it [00:00, 162.14it/s]\n",
            "9it [00:00, 144.35it/s]\n",
            "10it [00:00, 197.04it/s]\n",
            "5it [00:00, 160.73it/s]\n",
            "4it [00:00, 172.21it/s]\n",
            "2it [00:00, 125.68it/s]\n",
            "2it [00:00, 145.52it/s]\n",
            "2it [00:00, 109.81it/s]\n",
            "2it [00:00, 140.22it/s]\n",
            "2it [00:00, 133.91it/s]\n",
            "2it [00:00, 69.10it/s]\n",
            "3it [00:00, 73.16it/s]\n",
            "7it [00:00, 165.48it/s]\n",
            "3it [00:00, 135.80it/s]\n",
            "7it [00:00, 169.20it/s]\n",
            "4it [00:00, 158.22it/s]\n",
            "7it [00:00, 129.58it/s]\n",
            "5it [00:00, 164.70it/s]\n",
            "4it [00:00, 163.00it/s]\n",
            "7it [00:00, 181.35it/s]\n",
            "4it [00:00, 162.96it/s]\n",
            "3it [00:00, 161.63it/s]\n",
            "6it [00:00, 177.86it/s]\n",
            "4it [00:00, 202.64it/s]\n",
            "5it [00:00, 188.36it/s]\n",
            "7it [00:00, 156.98it/s]\n",
            "7it [00:00, 233.91it/s]\n",
            "4it [00:00, 160.47it/s]\n",
            "9it [00:00, 167.46it/s]\n",
            "5it [00:00, 162.25it/s]\n",
            "7it [00:00, 178.19it/s]\n",
            "8it [00:00, 171.91it/s]\n",
            "7it [00:00, 117.99it/s]\n",
            "7it [00:00, 165.29it/s]\n",
            "8it [00:00, 176.44it/s]\n",
            "7it [00:00, 149.93it/s]\n",
            "8it [00:00, 154.76it/s]\n",
            "8it [00:00, 165.74it/s]\n",
            "7it [00:00, 161.93it/s]\n",
            "2it [00:00, 150.95it/s]\n",
            "3it [00:00, 155.70it/s]\n",
            "6it [00:00, 152.45it/s]\n",
            "5it [00:00, 178.09it/s]\n",
            "6it [00:00, 178.85it/s]\n",
            "2it [00:00, 155.24it/s]\n",
            "6it [00:00, 178.86it/s]\n",
            "7it [00:00, 173.68it/s]\n",
            "2it [00:00, 138.07it/s]\n",
            "6it [00:00, 128.54it/s]\n",
            "8it [00:00, 190.46it/s]\n",
            "5it [00:00, 174.70it/s]\n",
            "3it [00:00, 118.08it/s]\n",
            "6it [00:00, 138.64it/s]\n",
            "7it [00:00, 137.13it/s]\n",
            "5it [00:00, 182.41it/s]\n",
            "4it [00:00, 218.65it/s]\n",
            "3it [00:00, 181.30it/s]\n",
            "8it [00:00, 197.19it/s]\n",
            "6it [00:00, 216.27it/s]\n",
            "3it [00:00, 147.67it/s]\n",
            "12it [00:00, 191.62it/s]\n",
            "4it [00:00, 146.19it/s]\n",
            "8it [00:00, 181.70it/s]\n",
            "2it [00:00, 134.08it/s]\n",
            "4it [00:00, 157.80it/s]\n",
            "2it [00:00, 154.12it/s]\n",
            "4it [00:00, 149.05it/s]\n",
            "5it [00:00, 156.08it/s]\n",
            "6it [00:00, 138.24it/s]\n",
            "5it [00:00, 139.61it/s]\n",
            "5it [00:00, 175.28it/s]\n",
            "9it [00:00, 171.93it/s]\n",
            "9it [00:00, 171.80it/s]\n",
            "7it [00:00, 161.63it/s]\n",
            "8it [00:00, 160.36it/s]\n",
            "3it [00:00, 122.61it/s]\n",
            "4it [00:00, 205.67it/s]\n",
            "11it [00:00, 204.90it/s]\n",
            "12it [00:00, 176.79it/s]\n",
            "4it [00:00, 129.75it/s]\n",
            "4it [00:00, 175.25it/s]\n",
            "5it [00:00, 190.83it/s]\n",
            "4it [00:00, 189.29it/s]\n",
            "5it [00:00, 201.02it/s]\n",
            "4it [00:00, 149.14it/s]\n",
            "6it [00:00, 177.03it/s]\n",
            "3it [00:00, 159.54it/s]\n",
            "4it [00:00, 132.20it/s]\n",
            "4it [00:00, 189.85it/s]\n",
            "5it [00:00, 184.01it/s]\n",
            "11it [00:00, 159.25it/s]\n",
            "7it [00:00, 194.07it/s]\n",
            "5it [00:00, 206.05it/s]\n",
            "6it [00:00, 179.26it/s]\n",
            "9it [00:00, 157.74it/s]\n",
            "5it [00:00, 150.36it/s]\n",
            "2it [00:00, 137.69it/s]\n",
            "3it [00:00, 165.19it/s]\n",
            "2it [00:00, 80.59it/s]\n",
            "3it [00:00, 135.16it/s]\n",
            "2it [00:00, 153.51it/s]\n",
            "10it [00:00, 197.07it/s]\n",
            "3it [00:00, 182.10it/s]\n",
            "6it [00:00, 198.79it/s]\n",
            "2it [00:00, 162.53it/s]\n",
            "2it [00:00, 174.79it/s]\n",
            "2it [00:00, 122.98it/s]\n",
            "2it [00:00, 147.49it/s]\n",
            "3it [00:00, 135.00it/s]\n",
            "4it [00:00, 170.98it/s]\n",
            "4it [00:00, 168.50it/s]\n",
            "6it [00:00, 123.55it/s]\n",
            "2it [00:00, 112.90it/s]\n",
            "5it [00:00, 168.61it/s]\n",
            "8it [00:00, 214.14it/s]\n",
            "5it [00:00, 198.58it/s]\n",
            "6it [00:00, 197.93it/s]\n",
            "8it [00:00, 169.86it/s]\n",
            "8it [00:00, 181.69it/s]\n",
            "7it [00:00, 190.77it/s]\n",
            "6it [00:00, 148.36it/s]\n",
            "3it [00:00, 141.72it/s]\n",
            "6it [00:00, 185.90it/s]\n",
            "6it [00:00, 177.69it/s]\n",
            "8it [00:00, 150.17it/s]\n",
            "6it [00:00, 161.44it/s]\n",
            "3it [00:00, 150.29it/s]\n",
            "7it [00:00, 183.79it/s]\n",
            "3it [00:00, 170.87it/s]\n",
            "5it [00:00, 169.55it/s]\n",
            "6it [00:00, 239.51it/s]\n",
            "5it [00:00, 170.61it/s]\n",
            "4it [00:00, 176.59it/s]\n",
            "7it [00:00, 191.72it/s]\n",
            "5it [00:00, 187.78it/s]\n",
            "5it [00:00, 181.12it/s]\n",
            "2it [00:00, 188.47it/s]\n",
            "6it [00:00, 156.74it/s]\n",
            "9it [00:00, 191.01it/s]\n",
            "7it [00:00, 177.41it/s]\n",
            "8it [00:00, 178.28it/s]\n",
            "7it [00:00, 160.98it/s]\n",
            "6it [00:00, 161.08it/s]\n",
            "6it [00:00, 156.14it/s]\n",
            "7it [00:00, 226.98it/s]\n",
            "8it [00:00, 183.43it/s]\n",
            "3it [00:00, 121.22it/s]\n",
            "3it [00:00, 128.65it/s]\n",
            "3it [00:00, 134.73it/s]\n",
            "3it [00:00, 123.02it/s]\n",
            "2it [00:00, 139.07it/s]\n",
            "11it [00:00, 200.63it/s]\n",
            "6it [00:00, 150.35it/s]\n",
            "5it [00:00, 171.38it/s]\n",
            "4it [00:00, 216.42it/s]\n",
            "3it [00:00, 167.93it/s]\n",
            "5it [00:00, 161.64it/s]\n",
            "6it [00:00, 229.23it/s]\n",
            "4it [00:00, 167.24it/s]\n",
            "9it [00:00, 213.48it/s]\n",
            "5it [00:00, 186.73it/s]\n",
            "9it [00:00, 227.53it/s]\n",
            "6it [00:00, 142.06it/s]\n",
            "6it [00:00, 166.99it/s]\n",
            "7it [00:00, 218.61it/s]\n",
            "2it [00:00, 137.66it/s]\n",
            "11it [00:00, 180.11it/s]\n",
            "10it [00:00, 167.89it/s]\n",
            "5it [00:00, 183.37it/s]\n",
            "11it [00:00, 182.59it/s]\n",
            "5it [00:00, 202.11it/s]\n",
            "5it [00:00, 170.26it/s]\n",
            "4it [00:00, 159.71it/s]\n",
            "7it [00:00, 190.55it/s]\n",
            "5it [00:00, 157.27it/s]\n",
            "7it [00:00, 185.61it/s]\n",
            "7it [00:00, 182.83it/s]\n",
            "5it [00:00, 202.68it/s]\n",
            "4it [00:00, 155.13it/s]\n",
            "4it [00:00, 162.68it/s]\n",
            "7it [00:00, 224.35it/s]\n",
            "4it [00:00, 202.75it/s]\n",
            "2it [00:00, 142.49it/s]\n",
            "4it [00:00, 159.75it/s]\n",
            "4it [00:00, 150.70it/s]\n",
            "3it [00:00, 143.25it/s]\n",
            "4it [00:00, 162.96it/s]\n",
            "4it [00:00, 151.23it/s]\n",
            "4it [00:00, 174.25it/s]\n",
            "5it [00:00, 165.87it/s]\n",
            "2it [00:00, 138.79it/s]\n",
            "2it [00:00, 132.08it/s]\n",
            "2it [00:00, 131.75it/s]\n",
            "4it [00:00, 200.21it/s]\n",
            "4it [00:00, 187.76it/s]\n",
            "4it [00:00, 133.94it/s]\n",
            "2it [00:00, 133.49it/s]\n",
            "5it [00:00, 161.19it/s]\n",
            "4it [00:00, 185.21it/s]\n",
            "3it [00:00, 122.97it/s]\n",
            "2it [00:00, 125.45it/s]\n",
            "3it [00:00, 148.74it/s]\n",
            "2it [00:00, 169.86it/s]\n",
            "4it [00:00, 211.26it/s]\n",
            "4it [00:00, 174.11it/s]\n",
            "3it [00:00, 142.05it/s]\n",
            "3it [00:00, 131.96it/s]\n",
            "4it [00:00, 206.73it/s]\n",
            "4it [00:00, 162.46it/s]\n",
            "4it [00:00, 132.47it/s]\n",
            "4it [00:00, 179.35it/s]\n",
            "5it [00:00, 190.57it/s]\n",
            "11it [00:00, 199.32it/s]\n",
            "7it [00:00, 218.82it/s]\n",
            "4it [00:00, 143.72it/s]\n",
            "4it [00:00, 155.09it/s]\n",
            "9it [00:00, 175.53it/s]\n",
            "5it [00:00, 163.25it/s]\n",
            "4it [00:00, 169.76it/s]\n",
            "5it [00:00, 174.65it/s]\n",
            "5it [00:00, 137.08it/s]\n",
            "5it [00:00, 168.26it/s]\n",
            "9it [00:00, 191.30it/s]\n"
          ]
        }
      ]
    },
    {
      "cell_type": "markdown",
      "source": [
        "# Task3\n",
        "Pre-processing the data to fit the formatting requirements of ET Experiment Builder"
      ],
      "metadata": {
        "id": "0AEAmxA4l-tP"
      }
    },
    {
      "cell_type": "code",
      "source": [
        "et_data = pd.read_csv('aliased_selected_data.csv')"
      ],
      "metadata": {
        "id": "tBTT5jj-mG1y"
      },
      "execution_count": null,
      "outputs": []
    },
    {
      "cell_type": "code",
      "metadata": {
        "id": "BH9XG8LyZxIg",
        "colab": {
          "base_uri": "https://localhost:8080/"
        },
        "outputId": "20867de2-0d0f-427c-8c67-ce8d07246365"
      },
      "source": [
        "et_text = {}\n",
        "et_keys = []\n",
        "et_vals = []\n",
        "for i in tqdm(range(len(et_data))):\n",
        "    key = et_data.loc[i,'KEY']\n",
        "    if key.find(\"_u\")!=-1:\n",
        "      et_text[et_data.loc[i, 'SCENE']+\"_c\"] += '\\n\\n\\n'+et_data.loc[i, 'SPEAKER']+': '+et_data.loc[i, 'SENTENCE']\n",
        "    else:\n",
        "      if et_data.loc[i, 'SCENE']+\"_c\" in et_text.keys():\n",
        "          et_text[et_data.loc[i, 'SCENE']+\"_c\"]+= '\\n'+et_data.loc[i, 'SPEAKER']+': '+et_data.loc[i, 'SENTENCE']\n",
        "      else:\n",
        "          et_text[et_data.loc[i, 'SCENE']+\"_c\"] = et_data.loc[i, 'SPEAKER']+': '+et_data.loc[i, 'SENTENCE']\n",
        "\n",
        "et_keys = list(et_text.keys())\n",
        "et_values = list(et_text.values())\n",
        "    \n",
        "print(len(et_keys))\n",
        "# print(bart_values[:5])"
      ],
      "execution_count": null,
      "outputs": [
        {
          "output_type": "stream",
          "name": "stderr",
          "text": [
            "100%|██████████| 1243/1243 [00:00<00:00, 18759.54it/s]"
          ]
        },
        {
          "output_type": "stream",
          "name": "stdout",
          "text": [
            "237\n"
          ]
        },
        {
          "output_type": "stream",
          "name": "stderr",
          "text": [
            "\n"
          ]
        }
      ]
    },
    {
      "cell_type": "code",
      "metadata": {
        "id": "LQpta6d1BP-z"
      },
      "source": [
        "# len(set(bart_keys))"
      ],
      "execution_count": null,
      "outputs": []
    },
    {
      "cell_type": "code",
      "metadata": {
        "id": "07j5oL8x8yTA",
        "colab": {
          "base_uri": "https://localhost:8080/"
        },
        "outputId": "d53843b0-1ab4-4111-b59a-878360e3e469"
      },
      "source": [
        "df = pd.DataFrame(list(zip(et_keys,et_values)),columns=['KEY','SENTENCE'])\n",
        "print(df.head())"
      ],
      "execution_count": null,
      "outputs": [
        {
          "output_type": "stream",
          "name": "stdout",
          "text": [
            "         KEY                                           SENTENCE\n",
            "0    1_105_c  George: Great Caesar's ghost, look at this pla...\n",
            "1  1_11177_c  Louis: Okay, why?\\n\\n\\nGeorge: I'm listening t...\n",
            "2  1_11224_c  Bianca: You heard what he said about his paren...\n",
            "3  1_11242_c  George: I was not panicked, and I am not overl...\n",
            "4   1_1296_c  Rohit: They're going to digitally add a supern...\n"
          ]
        }
      ]
    },
    {
      "cell_type": "code",
      "source": [
        "df"
      ],
      "metadata": {
        "id": "y7oiTClZopHD",
        "colab": {
          "base_uri": "https://localhost:8080/"
        },
        "outputId": "5f5c871e-c8d3-4c52-e33b-68aef474ea90"
      },
      "execution_count": null,
      "outputs": [
        {
          "output_type": "execute_result",
          "data": {
            "text/plain": [
              "           KEY                                           SENTENCE\n",
              "0      1_105_c  George: Great Caesar's ghost, look at this pla...\n",
              "1    1_11177_c  Louis: Okay, why?\\n\\n\\nGeorge: I'm listening t...\n",
              "2    1_11224_c  Bianca: You heard what he said about his paren...\n",
              "3    1_11242_c  George: I was not panicked, and I am not overl...\n",
              "4     1_1296_c  Rohit: They're going to digitally add a supern...\n",
              "..         ...                                                ...\n",
              "232   1_2216_c  Shane: Unlike you, I can actually talk to wome...\n",
              "233   1_3840_c  George: Ah…I do so love beverages.\\nGeorge: No...\n",
              "234   1_4477_c  Person: Yes.\\nI'm Special Agent Page, FBI.\\nGe...\n",
              "235   1_1484_c  George: Who touched my…\\nShane: Sadie! Sadie d...\n",
              "236   1_4286_c  George: and a super executive ant farm with gl...\n",
              "\n",
              "[237 rows x 2 columns]"
            ],
            "text/html": [
              "\n",
              "  <div id=\"df-aa7d65b9-4537-48d2-be47-36ccd5b2d5e8\">\n",
              "    <div class=\"colab-df-container\">\n",
              "      <div>\n",
              "<style scoped>\n",
              "    .dataframe tbody tr th:only-of-type {\n",
              "        vertical-align: middle;\n",
              "    }\n",
              "\n",
              "    .dataframe tbody tr th {\n",
              "        vertical-align: top;\n",
              "    }\n",
              "\n",
              "    .dataframe thead th {\n",
              "        text-align: right;\n",
              "    }\n",
              "</style>\n",
              "<table border=\"1\" class=\"dataframe\">\n",
              "  <thead>\n",
              "    <tr style=\"text-align: right;\">\n",
              "      <th></th>\n",
              "      <th>KEY</th>\n",
              "      <th>SENTENCE</th>\n",
              "    </tr>\n",
              "  </thead>\n",
              "  <tbody>\n",
              "    <tr>\n",
              "      <th>0</th>\n",
              "      <td>1_105_c</td>\n",
              "      <td>George: Great Caesar's ghost, look at this pla...</td>\n",
              "    </tr>\n",
              "    <tr>\n",
              "      <th>1</th>\n",
              "      <td>1_11177_c</td>\n",
              "      <td>Louis: Okay, why?\\n\\n\\nGeorge: I'm listening t...</td>\n",
              "    </tr>\n",
              "    <tr>\n",
              "      <th>2</th>\n",
              "      <td>1_11224_c</td>\n",
              "      <td>Bianca: You heard what he said about his paren...</td>\n",
              "    </tr>\n",
              "    <tr>\n",
              "      <th>3</th>\n",
              "      <td>1_11242_c</td>\n",
              "      <td>George: I was not panicked, and I am not overl...</td>\n",
              "    </tr>\n",
              "    <tr>\n",
              "      <th>4</th>\n",
              "      <td>1_1296_c</td>\n",
              "      <td>Rohit: They're going to digitally add a supern...</td>\n",
              "    </tr>\n",
              "    <tr>\n",
              "      <th>...</th>\n",
              "      <td>...</td>\n",
              "      <td>...</td>\n",
              "    </tr>\n",
              "    <tr>\n",
              "      <th>232</th>\n",
              "      <td>1_2216_c</td>\n",
              "      <td>Shane: Unlike you, I can actually talk to wome...</td>\n",
              "    </tr>\n",
              "    <tr>\n",
              "      <th>233</th>\n",
              "      <td>1_3840_c</td>\n",
              "      <td>George: Ah…I do so love beverages.\\nGeorge: No...</td>\n",
              "    </tr>\n",
              "    <tr>\n",
              "      <th>234</th>\n",
              "      <td>1_4477_c</td>\n",
              "      <td>Person: Yes.\\nI'm Special Agent Page, FBI.\\nGe...</td>\n",
              "    </tr>\n",
              "    <tr>\n",
              "      <th>235</th>\n",
              "      <td>1_1484_c</td>\n",
              "      <td>George: Who touched my…\\nShane: Sadie! Sadie d...</td>\n",
              "    </tr>\n",
              "    <tr>\n",
              "      <th>236</th>\n",
              "      <td>1_4286_c</td>\n",
              "      <td>George: and a super executive ant farm with gl...</td>\n",
              "    </tr>\n",
              "  </tbody>\n",
              "</table>\n",
              "<p>237 rows × 2 columns</p>\n",
              "</div>\n",
              "      <button class=\"colab-df-convert\" onclick=\"convertToInteractive('df-aa7d65b9-4537-48d2-be47-36ccd5b2d5e8')\"\n",
              "              title=\"Convert this dataframe to an interactive table.\"\n",
              "              style=\"display:none;\">\n",
              "        \n",
              "  <svg xmlns=\"http://www.w3.org/2000/svg\" height=\"24px\"viewBox=\"0 0 24 24\"\n",
              "       width=\"24px\">\n",
              "    <path d=\"M0 0h24v24H0V0z\" fill=\"none\"/>\n",
              "    <path d=\"M18.56 5.44l.94 2.06.94-2.06 2.06-.94-2.06-.94-.94-2.06-.94 2.06-2.06.94zm-11 1L8.5 8.5l.94-2.06 2.06-.94-2.06-.94L8.5 2.5l-.94 2.06-2.06.94zm10 10l.94 2.06.94-2.06 2.06-.94-2.06-.94-.94-2.06-.94 2.06-2.06.94z\"/><path d=\"M17.41 7.96l-1.37-1.37c-.4-.4-.92-.59-1.43-.59-.52 0-1.04.2-1.43.59L10.3 9.45l-7.72 7.72c-.78.78-.78 2.05 0 2.83L4 21.41c.39.39.9.59 1.41.59.51 0 1.02-.2 1.41-.59l7.78-7.78 2.81-2.81c.8-.78.8-2.07 0-2.86zM5.41 20L4 18.59l7.72-7.72 1.47 1.35L5.41 20z\"/>\n",
              "  </svg>\n",
              "      </button>\n",
              "      \n",
              "  <style>\n",
              "    .colab-df-container {\n",
              "      display:flex;\n",
              "      flex-wrap:wrap;\n",
              "      gap: 12px;\n",
              "    }\n",
              "\n",
              "    .colab-df-convert {\n",
              "      background-color: #E8F0FE;\n",
              "      border: none;\n",
              "      border-radius: 50%;\n",
              "      cursor: pointer;\n",
              "      display: none;\n",
              "      fill: #1967D2;\n",
              "      height: 32px;\n",
              "      padding: 0 0 0 0;\n",
              "      width: 32px;\n",
              "    }\n",
              "\n",
              "    .colab-df-convert:hover {\n",
              "      background-color: #E2EBFA;\n",
              "      box-shadow: 0px 1px 2px rgba(60, 64, 67, 0.3), 0px 1px 3px 1px rgba(60, 64, 67, 0.15);\n",
              "      fill: #174EA6;\n",
              "    }\n",
              "\n",
              "    [theme=dark] .colab-df-convert {\n",
              "      background-color: #3B4455;\n",
              "      fill: #D2E3FC;\n",
              "    }\n",
              "\n",
              "    [theme=dark] .colab-df-convert:hover {\n",
              "      background-color: #434B5C;\n",
              "      box-shadow: 0px 1px 3px 1px rgba(0, 0, 0, 0.15);\n",
              "      filter: drop-shadow(0px 1px 2px rgba(0, 0, 0, 0.3));\n",
              "      fill: #FFFFFF;\n",
              "    }\n",
              "  </style>\n",
              "\n",
              "      <script>\n",
              "        const buttonEl =\n",
              "          document.querySelector('#df-aa7d65b9-4537-48d2-be47-36ccd5b2d5e8 button.colab-df-convert');\n",
              "        buttonEl.style.display =\n",
              "          google.colab.kernel.accessAllowed ? 'block' : 'none';\n",
              "\n",
              "        async function convertToInteractive(key) {\n",
              "          const element = document.querySelector('#df-aa7d65b9-4537-48d2-be47-36ccd5b2d5e8');\n",
              "          const dataTable =\n",
              "            await google.colab.kernel.invokeFunction('convertToInteractive',\n",
              "                                                     [key], {});\n",
              "          if (!dataTable) return;\n",
              "\n",
              "          const docLinkHtml = 'Like what you see? Visit the ' +\n",
              "            '<a target=\"_blank\" href=https://colab.research.google.com/notebooks/data_table.ipynb>data table notebook</a>'\n",
              "            + ' to learn more about interactive tables.';\n",
              "          element.innerHTML = '';\n",
              "          dataTable['output_type'] = 'display_data';\n",
              "          await google.colab.output.renderOutput(dataTable, element);\n",
              "          const docLink = document.createElement('div');\n",
              "          docLink.innerHTML = docLinkHtml;\n",
              "          element.appendChild(docLink);\n",
              "        }\n",
              "      </script>\n",
              "    </div>\n",
              "  </div>\n",
              "  "
            ]
          },
          "metadata": {},
          "execution_count": 21
        }
      ]
    },
    {
      "cell_type": "code",
      "source": [
        "df.to_csv('formatted_et_data.csv')"
      ],
      "metadata": {
        "id": "bpHa16i3orLC"
      },
      "execution_count": null,
      "outputs": []
    },
    {
      "cell_type": "markdown",
      "source": [
        "# Task 4\n",
        "\n"
      ],
      "metadata": {
        "id": "-cE0i9G3-UDi"
      }
    },
    {
      "cell_type": "markdown",
      "source": [
        "Check the results file for accuracy"
      ],
      "metadata": {
        "id": "uVYxCb2U-Xxx"
      }
    },
    {
      "cell_type": "code",
      "source": [
        "# results = pd.read_csv('https://docs.google.com/spreadsheets/d/e/2PACX-1vTkvK0aZnUMuNECrNwT7KUrTg4U6kNBb1pvUY9327w0xwsiCzCsKSEtZEcJ3BYmHWNqCyoQWIz3BTmB/pub?gid=1507392439&single=true&output=csv')\n",
        "gold_results = pd.read_csv('https://docs.google.com/spreadsheets/d/e/2PACX-1vR13eiIyI8abEhNedGFIiNCi0gASghjO33Lr_qSFyYymGJsmk0svWk1OeNGh1F-aK0dTfDW7BxrbRS-/pub?gid=1155147469&single=true&output=csv')\n",
        "divyank = pd.read_csv('https://docs.google.com/spreadsheets/d/e/2PACX-1vTkvK0aZnUMuNECrNwT7KUrTg4U6kNBb1pvUY9327w0xwsiCzCsKSEtZEcJ3BYmHWNqCyoQWIz3BTmB/pub?gid=1507392439&single=true&output=csv')\n",
        "sanjna = pd.read_csv('https://docs.google.com/spreadsheets/d/e/2PACX-1vTkvK0aZnUMuNECrNwT7KUrTg4U6kNBb1pvUY9327w0xwsiCzCsKSEtZEcJ3BYmHWNqCyoQWIz3BTmB/pub?gid=360277569&single=true&output=csv')\n",
        "nvs = pd.read_csv('https://docs.google.com/spreadsheets/d/e/2PACX-1vTkvK0aZnUMuNECrNwT7KUrTg4U6kNBb1pvUY9327w0xwsiCzCsKSEtZEcJ3BYmHWNqCyoQWIz3BTmB/pub?gid=451313082&single=true&output=csv')\n",
        "aarsh = pd.read_csv('https://docs.google.com/spreadsheets/d/e/2PACX-1vTkvK0aZnUMuNECrNwT7KUrTg4U6kNBb1pvUY9327w0xwsiCzCsKSEtZEcJ3BYmHWNqCyoQWIz3BTmB/pub?gid=1827940996&single=true&output=csv')\n",
        "bud = pd.read_csv('https://docs.google.com/spreadsheets/d/e/2PACX-1vTkvK0aZnUMuNECrNwT7KUrTg4U6kNBb1pvUY9327w0xwsiCzCsKSEtZEcJ3BYmHWNqCyoQWIz3BTmB/pub?gid=878768992&single=true&output=csv')\n",
        "saur = pd.read_csv('https://docs.google.com/spreadsheets/d/e/2PACX-1vTkvK0aZnUMuNECrNwT7KUrTg4U6kNBb1pvUY9327w0xwsiCzCsKSEtZEcJ3BYmHWNqCyoQWIz3BTmB/pub?gid=261135252&single=true&output=csv')"
      ],
      "metadata": {
        "id": "YJI81WBp-bko"
      },
      "execution_count": null,
      "outputs": []
    },
    {
      "cell_type": "code",
      "source": [
        "emo_2_senti = {\n",
        "    'Anger':'-',\n",
        "    'Disgust':'-',\n",
        "    'Excitement':'+',\n",
        "    'Fear':'-',\n",
        "    'Sadness':'-',\n",
        "    'Ridicule':'-',\n",
        "    'Happiness':'+',\n",
        "    'Neutral':'0',\n",
        "    'Surprise':'+',\n",
        "    'Frustration':'-'\n",
        "}"
      ],
      "metadata": {
        "id": "vz-sgL-ADRPt"
      },
      "execution_count": null,
      "outputs": []
    },
    {
      "cell_type": "code",
      "source": [
        "def print_acc(results,name):\n",
        "  accuracy_rows = pd.DataFrame(columns=['KEY','TRUE','RESPONSE','ACCURACY'])\n",
        "  sarcasm_count = 0\n",
        "  for i,row in tqdm(results.iterrows()):\n",
        "      key = row['key']\n",
        "      key = key[:-2]\n",
        "      # print(key)\n",
        "      response = row['KEY_PRESSED']\n",
        "      actual_row = gold_results[gold_results['KEY']==(key+'_u')]\n",
        "      actual_row = actual_row.iloc[0]\n",
        "      actual = emo_2_senti[actual_row['Implicit_Emotion']]\n",
        "      sarcasm_count+=gold_results[gold_results['KEY']==(key+'_u')].iloc[0]['Sarcasm']\n",
        "      acc_row={}\n",
        "      acc_row['KEY']=key\n",
        "      acc_row['TRUE']=actual\n",
        "      acc_row['SARCASM']=gold_results[gold_results['KEY']==(key+'_u')].iloc[0]['Sarcasm']\n",
        "      acc_row['TIME_TAKEN']=row['RT']\n",
        "      acc_row['RESPONSE']=response\n",
        "      acc_row['ACCURACY']=1 if actual==response else 0\n",
        "      accuracy_rows = accuracy_rows.append(acc_row,ignore_index=True)\n",
        "\n",
        "  accuracy_rows.to_csv('processed_results.csv')\n",
        "  print(\"____________\",name,\"____________\")\n",
        "  print(\"The accuracy of this annotator is :::: \",accuracy_rows['ACCURACY'].mean())\n",
        "  print(\"The number of sarc. utterances were:\", sarcasm_count)"
      ],
      "metadata": {
        "id": "OKVEFAIwAZRp"
      },
      "execution_count": null,
      "outputs": []
    },
    {
      "cell_type": "code",
      "source": [
        "print_acc(divyank,\"DIVYANK\")\n",
        "print_acc(sanjna,\"SANJNA\")\n",
        "print_acc(nvs,\"NVS\")\n",
        "print_acc(aarsh,\"AARSH\")\n",
        "print_acc(bud,\"BUD\")\n",
        "print_acc(saur,\"SAUR\")"
      ],
      "metadata": {
        "colab": {
          "base_uri": "https://localhost:8080/"
        },
        "id": "UkMwq6k5feqa",
        "outputId": "c7dd4736-73c6-463c-e6c3-d7afd204ba34"
      },
      "execution_count": null,
      "outputs": [
        {
          "output_type": "stream",
          "name": "stderr",
          "text": [
            "231it [00:01, 129.15it/s]\n"
          ]
        },
        {
          "output_type": "stream",
          "name": "stdout",
          "text": [
            "____________ DIVYANK ____________\n",
            "The accuracy of this annotator is ::::  0.7012987012987013\n",
            "The number of sarc. utterances were: 127.0\n"
          ]
        },
        {
          "output_type": "stream",
          "name": "stderr",
          "text": [
            "231it [00:01, 129.34it/s]\n"
          ]
        },
        {
          "output_type": "stream",
          "name": "stdout",
          "text": [
            "____________ SANJNA ____________\n",
            "The accuracy of this annotator is ::::  0.7142857142857143\n",
            "The number of sarc. utterances were: 127.0\n"
          ]
        },
        {
          "output_type": "stream",
          "name": "stderr",
          "text": [
            "231it [00:01, 119.67it/s]\n"
          ]
        },
        {
          "output_type": "stream",
          "name": "stdout",
          "text": [
            "____________ NVS ____________\n",
            "The accuracy of this annotator is ::::  0.7619047619047619\n",
            "The number of sarc. utterances were: 127.0\n"
          ]
        },
        {
          "output_type": "stream",
          "name": "stderr",
          "text": [
            "231it [00:02, 80.07it/s]\n"
          ]
        },
        {
          "output_type": "stream",
          "name": "stdout",
          "text": [
            "____________ AARSH ____________\n",
            "The accuracy of this annotator is ::::  0.6796536796536796\n",
            "The number of sarc. utterances were: 127.0\n"
          ]
        },
        {
          "output_type": "stream",
          "name": "stderr",
          "text": [
            "231it [00:03, 66.93it/s]\n"
          ]
        },
        {
          "output_type": "stream",
          "name": "stdout",
          "text": [
            "____________ BUD ____________\n",
            "The accuracy of this annotator is ::::  0.5151515151515151\n",
            "The number of sarc. utterances were: 127.0\n"
          ]
        },
        {
          "output_type": "stream",
          "name": "stderr",
          "text": [
            "231it [00:03, 71.26it/s]"
          ]
        },
        {
          "output_type": "stream",
          "name": "stdout",
          "text": [
            "____________ SAUR ____________\n",
            "The accuracy of this annotator is ::::  0.5887445887445888\n",
            "The number of sarc. utterances were: 127.0\n"
          ]
        },
        {
          "output_type": "stream",
          "name": "stderr",
          "text": [
            "\n"
          ]
        }
      ]
    },
    {
      "cell_type": "code",
      "source": [
        ""
      ],
      "metadata": {
        "id": "j-HWJQx9Ik-a"
      },
      "execution_count": null,
      "outputs": []
    },
    {
      "cell_type": "markdown",
      "source": [
        "#  Task 5\n"
      ],
      "metadata": {
        "id": "K78HAERpM7ZR"
      }
    },
    {
      "cell_type": "markdown",
      "source": [
        "Inter-annotator agreement calculation for 5 annotators"
      ],
      "metadata": {
        "id": "INq4D-pKM_mH"
      }
    },
    {
      "cell_type": "code",
      "source": [
        "import pandas as pd\n",
        "import sklearn\n",
        "from sklearn.metrics import cohen_kappa_score"
      ],
      "metadata": {
        "id": "LwR6LKSZd3-_"
      },
      "execution_count": null,
      "outputs": []
    },
    {
      "cell_type": "code",
      "source": [
        "divyank = pd.read_csv('https://docs.google.com/spreadsheets/d/e/2PACX-1vTkvK0aZnUMuNECrNwT7KUrTg4U6kNBb1pvUY9327w0xwsiCzCsKSEtZEcJ3BYmHWNqCyoQWIz3BTmB/pub?gid=1507392439&single=true&output=csv')\n",
        "sanjna = pd.read_csv('https://docs.google.com/spreadsheets/d/e/2PACX-1vTkvK0aZnUMuNECrNwT7KUrTg4U6kNBb1pvUY9327w0xwsiCzCsKSEtZEcJ3BYmHWNqCyoQWIz3BTmB/pub?gid=360277569&single=true&output=csv')\n",
        "nvs = pd.read_csv('https://docs.google.com/spreadsheets/d/e/2PACX-1vTkvK0aZnUMuNECrNwT7KUrTg4U6kNBb1pvUY9327w0xwsiCzCsKSEtZEcJ3BYmHWNqCyoQWIz3BTmB/pub?gid=451313082&single=true&output=csv')\n",
        "aarsh = pd.read_csv('https://docs.google.com/spreadsheets/d/e/2PACX-1vTkvK0aZnUMuNECrNwT7KUrTg4U6kNBb1pvUY9327w0xwsiCzCsKSEtZEcJ3BYmHWNqCyoQWIz3BTmB/pub?gid=1827940996&single=true&output=csv')\n",
        "bud = pd.read_csv('https://docs.google.com/spreadsheets/d/e/2PACX-1vTkvK0aZnUMuNECrNwT7KUrTg4U6kNBb1pvUY9327w0xwsiCzCsKSEtZEcJ3BYmHWNqCyoQWIz3BTmB/pub?gid=878768992&single=true&output=csv')"
      ],
      "metadata": {
        "id": "ze-y9re9aLW6"
      },
      "execution_count": null,
      "outputs": []
    },
    {
      "cell_type": "code",
      "source": [
        "'''Response comparison'''\n",
        "annotations1 = divyank['KEY_PRESSED']\n",
        "annotations2 = sanjna['KEY_PRESSED']\n",
        "annotations3 = nvs['KEY_PRESSED']\n",
        "annotations4 = aarsh['KEY_PRESSED']\n",
        "annotations5 = bud['KEY_PRESSED']\n",
        "annotations6 = saur['KEY_PRESSED']\n",
        "\n",
        "anno = [annotations1,annotations2,annotations3,annotations4,annotations5,annotations6]\n",
        "participants = ['Divyank','Sanjna','NVS','Aarsh','Bud','Saur']"
      ],
      "metadata": {
        "id": "4i3p8XJtdqap"
      },
      "execution_count": null,
      "outputs": []
    },
    {
      "cell_type": "code",
      "source": [
        "agree_scores = pd.DataFrame(columns=['Annotator1','Annotator2','Agreement'])"
      ],
      "metadata": {
        "id": "5ELP1k1aeUN8"
      },
      "execution_count": null,
      "outputs": []
    },
    {
      "cell_type": "code",
      "source": [
        "for i in range(len(anno)):\n",
        "  for j in range(i+1,len(anno)):\n",
        "    if(i!=j):\n",
        "      print(\"Agreement between\",participants[i],\" and \",participants[j])\n",
        "      row = dict()\n",
        "      row['Annotator1'] = participants[i]\n",
        "      row['Annotator2'] = participants[j]\n",
        "      row['Agreement'] = cohen_kappa_score(anno[i],anno[j])\n",
        "      print(row['Agreement'])\n",
        "      agree_scores = agree_scores.append(row,ignore_index=True)"
      ],
      "metadata": {
        "id": "YLWyUrK4VN5-",
        "colab": {
          "base_uri": "https://localhost:8080/"
        },
        "outputId": "0c996a3c-52ea-4c62-a241-3e58356ed069"
      },
      "execution_count": null,
      "outputs": [
        {
          "output_type": "stream",
          "name": "stdout",
          "text": [
            "Agreement between Divyank  and  Sanjna\n",
            "0.3077109995140127\n",
            "Agreement between Divyank  and  NVS\n",
            "0.3236624966728773\n",
            "Agreement between Divyank  and  Aarsh\n",
            "0.29346994953356775\n",
            "Agreement between Divyank  and  Bud\n",
            "0.14020803562527018\n",
            "Agreement between Divyank  and  Saur\n",
            "0.22059518186112426\n",
            "Agreement between Sanjna  and  NVS\n",
            "0.31326644370122636\n",
            "Agreement between Sanjna  and  Aarsh\n",
            "0.2981585090221943\n",
            "Agreement between Sanjna  and  Bud\n",
            "0.11435748281332614\n",
            "Agreement between Sanjna  and  Saur\n",
            "0.2302052785923755\n",
            "Agreement between NVS  and  Aarsh\n",
            "0.34723028684241086\n",
            "Agreement between NVS  and  Bud\n",
            "0.10863757791629558\n",
            "Agreement between NVS  and  Saur\n",
            "0.40757238307349664\n",
            "Agreement between Aarsh  and  Bud\n",
            "0.18265922222943587\n",
            "Agreement between Aarsh  and  Saur\n",
            "0.29141104294478515\n",
            "Agreement between Bud  and  Saur\n",
            "0.1245379143238794\n"
          ]
        }
      ]
    },
    {
      "cell_type": "code",
      "source": [
        "agree_scores"
      ],
      "metadata": {
        "id": "Vw9H3-CdfY2F",
        "colab": {
          "base_uri": "https://localhost:8080/",
          "height": 430
        },
        "outputId": "d30deef9-9154-48d7-ebc9-5b7d2c299428"
      },
      "execution_count": null,
      "outputs": [
        {
          "output_type": "execute_result",
          "data": {
            "text/plain": [
              "   Annotator1 Annotator2  Agreement\n",
              "0     Divyank     Sanjna   0.307711\n",
              "1     Divyank        NVS   0.323662\n",
              "2     Divyank      Aarsh   0.293470\n",
              "3     Divyank        Bud   0.140208\n",
              "4     Divyank       Saur   0.220595\n",
              "5      Sanjna        NVS   0.313266\n",
              "6      Sanjna      Aarsh   0.298159\n",
              "7      Sanjna        Bud   0.114357\n",
              "8      Sanjna       Saur   0.230205\n",
              "9         NVS      Aarsh   0.347230\n",
              "10        NVS        Bud   0.108638\n",
              "11        NVS       Saur   0.407572\n",
              "12      Aarsh        Bud   0.182659\n",
              "13      Aarsh       Saur   0.291411\n",
              "14        Bud       Saur   0.124538"
            ],
            "text/html": [
              "\n",
              "  <div id=\"df-9befee6f-64f8-48ad-ba06-fa9a43274906\">\n",
              "    <div class=\"colab-df-container\">\n",
              "      <div>\n",
              "<style scoped>\n",
              "    .dataframe tbody tr th:only-of-type {\n",
              "        vertical-align: middle;\n",
              "    }\n",
              "\n",
              "    .dataframe tbody tr th {\n",
              "        vertical-align: top;\n",
              "    }\n",
              "\n",
              "    .dataframe thead th {\n",
              "        text-align: right;\n",
              "    }\n",
              "</style>\n",
              "<table border=\"1\" class=\"dataframe\">\n",
              "  <thead>\n",
              "    <tr style=\"text-align: right;\">\n",
              "      <th></th>\n",
              "      <th>Annotator1</th>\n",
              "      <th>Annotator2</th>\n",
              "      <th>Agreement</th>\n",
              "    </tr>\n",
              "  </thead>\n",
              "  <tbody>\n",
              "    <tr>\n",
              "      <th>0</th>\n",
              "      <td>Divyank</td>\n",
              "      <td>Sanjna</td>\n",
              "      <td>0.307711</td>\n",
              "    </tr>\n",
              "    <tr>\n",
              "      <th>1</th>\n",
              "      <td>Divyank</td>\n",
              "      <td>NVS</td>\n",
              "      <td>0.323662</td>\n",
              "    </tr>\n",
              "    <tr>\n",
              "      <th>2</th>\n",
              "      <td>Divyank</td>\n",
              "      <td>Aarsh</td>\n",
              "      <td>0.293470</td>\n",
              "    </tr>\n",
              "    <tr>\n",
              "      <th>3</th>\n",
              "      <td>Divyank</td>\n",
              "      <td>Bud</td>\n",
              "      <td>0.140208</td>\n",
              "    </tr>\n",
              "    <tr>\n",
              "      <th>4</th>\n",
              "      <td>Divyank</td>\n",
              "      <td>Saur</td>\n",
              "      <td>0.220595</td>\n",
              "    </tr>\n",
              "    <tr>\n",
              "      <th>5</th>\n",
              "      <td>Sanjna</td>\n",
              "      <td>NVS</td>\n",
              "      <td>0.313266</td>\n",
              "    </tr>\n",
              "    <tr>\n",
              "      <th>6</th>\n",
              "      <td>Sanjna</td>\n",
              "      <td>Aarsh</td>\n",
              "      <td>0.298159</td>\n",
              "    </tr>\n",
              "    <tr>\n",
              "      <th>7</th>\n",
              "      <td>Sanjna</td>\n",
              "      <td>Bud</td>\n",
              "      <td>0.114357</td>\n",
              "    </tr>\n",
              "    <tr>\n",
              "      <th>8</th>\n",
              "      <td>Sanjna</td>\n",
              "      <td>Saur</td>\n",
              "      <td>0.230205</td>\n",
              "    </tr>\n",
              "    <tr>\n",
              "      <th>9</th>\n",
              "      <td>NVS</td>\n",
              "      <td>Aarsh</td>\n",
              "      <td>0.347230</td>\n",
              "    </tr>\n",
              "    <tr>\n",
              "      <th>10</th>\n",
              "      <td>NVS</td>\n",
              "      <td>Bud</td>\n",
              "      <td>0.108638</td>\n",
              "    </tr>\n",
              "    <tr>\n",
              "      <th>11</th>\n",
              "      <td>NVS</td>\n",
              "      <td>Saur</td>\n",
              "      <td>0.407572</td>\n",
              "    </tr>\n",
              "    <tr>\n",
              "      <th>12</th>\n",
              "      <td>Aarsh</td>\n",
              "      <td>Bud</td>\n",
              "      <td>0.182659</td>\n",
              "    </tr>\n",
              "    <tr>\n",
              "      <th>13</th>\n",
              "      <td>Aarsh</td>\n",
              "      <td>Saur</td>\n",
              "      <td>0.291411</td>\n",
              "    </tr>\n",
              "    <tr>\n",
              "      <th>14</th>\n",
              "      <td>Bud</td>\n",
              "      <td>Saur</td>\n",
              "      <td>0.124538</td>\n",
              "    </tr>\n",
              "  </tbody>\n",
              "</table>\n",
              "</div>\n",
              "      <button class=\"colab-df-convert\" onclick=\"convertToInteractive('df-9befee6f-64f8-48ad-ba06-fa9a43274906')\"\n",
              "              title=\"Convert this dataframe to an interactive table.\"\n",
              "              style=\"display:none;\">\n",
              "        \n",
              "  <svg xmlns=\"http://www.w3.org/2000/svg\" height=\"24px\"viewBox=\"0 0 24 24\"\n",
              "       width=\"24px\">\n",
              "    <path d=\"M0 0h24v24H0V0z\" fill=\"none\"/>\n",
              "    <path d=\"M18.56 5.44l.94 2.06.94-2.06 2.06-.94-2.06-.94-.94-2.06-.94 2.06-2.06.94zm-11 1L8.5 8.5l.94-2.06 2.06-.94-2.06-.94L8.5 2.5l-.94 2.06-2.06.94zm10 10l.94 2.06.94-2.06 2.06-.94-2.06-.94-.94-2.06-.94 2.06-2.06.94z\"/><path d=\"M17.41 7.96l-1.37-1.37c-.4-.4-.92-.59-1.43-.59-.52 0-1.04.2-1.43.59L10.3 9.45l-7.72 7.72c-.78.78-.78 2.05 0 2.83L4 21.41c.39.39.9.59 1.41.59.51 0 1.02-.2 1.41-.59l7.78-7.78 2.81-2.81c.8-.78.8-2.07 0-2.86zM5.41 20L4 18.59l7.72-7.72 1.47 1.35L5.41 20z\"/>\n",
              "  </svg>\n",
              "      </button>\n",
              "      \n",
              "  <style>\n",
              "    .colab-df-container {\n",
              "      display:flex;\n",
              "      flex-wrap:wrap;\n",
              "      gap: 12px;\n",
              "    }\n",
              "\n",
              "    .colab-df-convert {\n",
              "      background-color: #E8F0FE;\n",
              "      border: none;\n",
              "      border-radius: 50%;\n",
              "      cursor: pointer;\n",
              "      display: none;\n",
              "      fill: #1967D2;\n",
              "      height: 32px;\n",
              "      padding: 0 0 0 0;\n",
              "      width: 32px;\n",
              "    }\n",
              "\n",
              "    .colab-df-convert:hover {\n",
              "      background-color: #E2EBFA;\n",
              "      box-shadow: 0px 1px 2px rgba(60, 64, 67, 0.3), 0px 1px 3px 1px rgba(60, 64, 67, 0.15);\n",
              "      fill: #174EA6;\n",
              "    }\n",
              "\n",
              "    [theme=dark] .colab-df-convert {\n",
              "      background-color: #3B4455;\n",
              "      fill: #D2E3FC;\n",
              "    }\n",
              "\n",
              "    [theme=dark] .colab-df-convert:hover {\n",
              "      background-color: #434B5C;\n",
              "      box-shadow: 0px 1px 3px 1px rgba(0, 0, 0, 0.15);\n",
              "      filter: drop-shadow(0px 1px 2px rgba(0, 0, 0, 0.3));\n",
              "      fill: #FFFFFF;\n",
              "    }\n",
              "  </style>\n",
              "\n",
              "      <script>\n",
              "        const buttonEl =\n",
              "          document.querySelector('#df-9befee6f-64f8-48ad-ba06-fa9a43274906 button.colab-df-convert');\n",
              "        buttonEl.style.display =\n",
              "          google.colab.kernel.accessAllowed ? 'block' : 'none';\n",
              "\n",
              "        async function convertToInteractive(key) {\n",
              "          const element = document.querySelector('#df-9befee6f-64f8-48ad-ba06-fa9a43274906');\n",
              "          const dataTable =\n",
              "            await google.colab.kernel.invokeFunction('convertToInteractive',\n",
              "                                                     [key], {});\n",
              "          if (!dataTable) return;\n",
              "\n",
              "          const docLinkHtml = 'Like what you see? Visit the ' +\n",
              "            '<a target=\"_blank\" href=https://colab.research.google.com/notebooks/data_table.ipynb>data table notebook</a>'\n",
              "            + ' to learn more about interactive tables.';\n",
              "          element.innerHTML = '';\n",
              "          dataTable['output_type'] = 'display_data';\n",
              "          await google.colab.output.renderOutput(dataTable, element);\n",
              "          const docLink = document.createElement('div');\n",
              "          docLink.innerHTML = docLinkHtml;\n",
              "          element.appendChild(docLink);\n",
              "        }\n",
              "      </script>\n",
              "    </div>\n",
              "  </div>\n",
              "  "
            ]
          },
          "metadata": {},
          "execution_count": 20
        }
      ]
    },
    {
      "cell_type": "code",
      "source": [
        "sum(agree_scores)/len(agree_scores)"
      ],
      "metadata": {
        "colab": {
          "base_uri": "https://localhost:8080/",
          "height": 169
        },
        "id": "OmTQ7FIJejo8",
        "outputId": "84e90940-9039-4e9b-ff80-e66254c230c9"
      },
      "execution_count": null,
      "outputs": [
        {
          "output_type": "error",
          "ename": "TypeError",
          "evalue": "ignored",
          "traceback": [
            "\u001b[0;31m---------------------------------------------------------------------------\u001b[0m",
            "\u001b[0;31mTypeError\u001b[0m                                 Traceback (most recent call last)",
            "\u001b[0;32m<ipython-input-15-e21deb092f5f>\u001b[0m in \u001b[0;36m<module>\u001b[0;34m()\u001b[0m\n\u001b[0;32m----> 1\u001b[0;31m \u001b[0msum\u001b[0m\u001b[0;34m(\u001b[0m\u001b[0magree_scores\u001b[0m\u001b[0;34m)\u001b[0m\u001b[0;34m/\u001b[0m\u001b[0mlen\u001b[0m\u001b[0;34m(\u001b[0m\u001b[0magree_scores\u001b[0m\u001b[0;34m)\u001b[0m\u001b[0;34m\u001b[0m\u001b[0;34m\u001b[0m\u001b[0m\n\u001b[0m",
            "\u001b[0;31mTypeError\u001b[0m: unsupported operand type(s) for +: 'int' and 'str'"
          ]
        }
      ]
    }
  ]
}